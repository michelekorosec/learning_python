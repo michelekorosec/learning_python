{
 "cells": [
  {
   "cell_type": "code",
   "execution_count": 4,
   "id": "d4e4de36",
   "metadata": {},
   "outputs": [],
   "source": [
    "import fastf1 as ff1\n",
    "import pandas as pd\n",
    "\n",
    "ff1.Cache.enable_cache('/Users/michelekorosec/Documents/Uni/Programming/learning_python/Formula1DataAnalysis/cache')\n",
    "#quali = ff1.get_session(2021,'Turkey','Q')"
   ]
  },
  {
   "cell_type": "code",
   "execution_count": 2,
   "id": "5837def1",
   "metadata": {},
   "outputs": [],
   "source": []
  }
 ],
 "metadata": {
  "kernelspec": {
   "display_name": "Python 3 (ipykernel)",
   "language": "python",
   "name": "python3"
  },
  "language_info": {
   "codemirror_mode": {
    "name": "ipython",
    "version": 3
   },
   "file_extension": ".py",
   "mimetype": "text/x-python",
   "name": "python",
   "nbconvert_exporter": "python",
   "pygments_lexer": "ipython3",
   "version": "3.8.7"
  }
 },
 "nbformat": 4,
 "nbformat_minor": 5
}